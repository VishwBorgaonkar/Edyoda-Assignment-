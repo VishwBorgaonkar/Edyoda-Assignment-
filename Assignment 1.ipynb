{
 "cells": [
  {
   "cell_type": "code",
   "execution_count": 1,
   "metadata": {},
   "outputs": [
    {
     "name": "stdout",
     "output_type": "stream",
     "text": [
      "1 1 2 3 5 8 13 21 34 "
     ]
    }
   ],
   "source": [
    "# Q.1 Write a python program to get fibonacci series between 0 to 50?\n",
    "\n",
    "x,y = 0,1\n",
    "\n",
    "while y < 50:\n",
    "    print(y,end=' ')\n",
    "    x,y = y,x+y\n"
   ]
  },
  {
   "cell_type": "code",
   "execution_count": 3,
   "metadata": {},
   "outputs": [
    {
     "data": {
      "text/plain": [
       "'whsiv'"
      ]
     },
     "execution_count": 3,
     "metadata": {},
     "output_type": "execute_result"
    }
   ],
   "source": [
    "# Q.2 Write a Python program that accepts a word from the user and reverse it.\n",
    "\n",
    "word = input(\"Enter a word:\")\n",
    "\n",
    "word_1 =word[::-1]\n",
    "word_1\n"
   ]
  },
  {
   "cell_type": "code",
   "execution_count": 7,
   "metadata": {},
   "outputs": [
    {
     "name": "stdout",
     "output_type": "stream",
     "text": [
      "Even numbers are: 4\n",
      "Odd numbers are: 5\n"
     ]
    }
   ],
   "source": [
    "# Q.3 Write a Python program to count the number of even and odd numbers from a series of numbers.\n",
    "\n",
    "numbers = (11,22,33,44,55,66,77,88,99)\n",
    "\n",
    "even_num = 0\n",
    "odd_num = 0\n",
    "\n",
    "for i in numbers:\n",
    "    if i % 2 == 0:\n",
    "         even_num += 1\n",
    "    else:\n",
    "         odd_num += 1\n",
    "\n",
    "print(\"Even numbers are:\",even_num)\n",
    "print(\"Odd numbers are:\",odd_num)    \n"
   ]
  }
 ],
 "metadata": {
  "kernelspec": {
   "display_name": "Python 3",
   "language": "python",
   "name": "python3"
  },
  "language_info": {
   "codemirror_mode": {
    "name": "ipython",
    "version": 3
   },
   "file_extension": ".py",
   "mimetype": "text/x-python",
   "name": "python",
   "nbconvert_exporter": "python",
   "pygments_lexer": "ipython3",
   "version": "3.12.0"
  }
 },
 "nbformat": 4,
 "nbformat_minor": 2
}
